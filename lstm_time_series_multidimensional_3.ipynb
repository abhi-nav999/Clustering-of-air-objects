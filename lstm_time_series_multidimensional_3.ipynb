{
  "nbformat": 4,
  "nbformat_minor": 0,
  "metadata": {
    "colab": {
      "name": "lstm time series multidimensional - 3.ipynb",
      "provenance": []
    },
    "kernelspec": {
      "name": "python3",
      "display_name": "Python 3"
    },
    "language_info": {
      "name": "python"
    }
  },
  "cells": [
    {
      "cell_type": "code",
      "metadata": {
        "id": "_dZ6WbOX0rbR"
      },
      "source": [
        "import numpy as np\n",
        "import matplotlib.pyplot as plt\n",
        "from pandas import read_csv\n",
        "import math\n",
        "import keras.optimizers\n",
        "from keras.models import Sequential\n",
        "from keras.layers import Dense\n",
        "from keras.layers import LSTM\n",
        "from keras.layers import Bidirectional\n",
        "from sklearn.preprocessing import MinMaxScaler\n",
        "from sklearn.metrics import mean_squared_error\n",
        "from keras import callbacks"
      ],
      "execution_count": 2,
      "outputs": []
    },
    {
      "cell_type": "code",
      "metadata": {
        "id": "9LwyhU-X0_0r"
      },
      "source": [
        "# no of rows that are removed from the dataset because 6th row wasn't their for that particular plane\n",
        "rows_removed = 0  \n",
        "\n",
        "#convert an array of calues into a dataset matrix\n",
        "def create_dataset(dataset, look_back=1):\n",
        "    dataX, dataY = [], []\n",
        "    global rows_removed\n",
        "    for i in range(len(dataset) - look_back-1):\n",
        "        if (dataset[i + look_back][0] != dataset[i][0]):\n",
        "            rows_removed = rows_removed + 1\n",
        "            continue\n",
        "        a = dataset[i:(i + look_back), 1:]\n",
        "        dataX.append(a)\n",
        "        dataY.append(dataset[i + look_back, 1:])\n",
        "    return np.array(dataX), np.array(dataY)"
      ],
      "execution_count": 3,
      "outputs": []
    },
    {
      "cell_type": "code",
      "metadata": {
        "id": "2BQ5X5Px1H4c"
      },
      "source": [
        "#fix random seed for reproducibility\n",
        "np.random.seed(7)"
      ],
      "execution_count": 4,
      "outputs": []
    },
    {
      "cell_type": "code",
      "metadata": {
        "colab": {
          "resources": {
            "http://localhost:8080/nbextensions/google.colab/files.js": {
              "data": "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",
              "ok": true,
              "headers": [
                [
                  "content-type",
                  "application/javascript"
                ]
              ],
              "status": 200,
              "status_text": ""
            }
          },
          "base_uri": "https://localhost:8080/",
          "height": 73
        },
        "id": "NbMOQRIO1LMJ",
        "outputId": "8f70de3e-c236-43bb-c874-82da23dd47e0"
      },
      "source": [
        "from google.colab import files\n",
        "uploaded = files.upload()"
      ],
      "execution_count": 5,
      "outputs": [
        {
          "output_type": "display_data",
          "data": {
            "text/html": [
              "\n",
              "     <input type=\"file\" id=\"files-e260c6fb-918f-41a9-bfde-d849ca6fb8c9\" name=\"files[]\" multiple disabled\n",
              "        style=\"border:none\" />\n",
              "     <output id=\"result-e260c6fb-918f-41a9-bfde-d849ca6fb8c9\">\n",
              "      Upload widget is only available when the cell has been executed in the\n",
              "      current browser session. Please rerun this cell to enable.\n",
              "      </output>\n",
              "      <script src=\"/nbextensions/google.colab/files.js\"></script> "
            ],
            "text/plain": [
              "<IPython.core.display.HTML object>"
            ]
          },
          "metadata": {
            "tags": []
          }
        },
        {
          "output_type": "stream",
          "text": [
            "Saving new planes.csv to new planes.csv\n"
          ],
          "name": "stdout"
        }
      ]
    },
    {
      "cell_type": "code",
      "metadata": {
        "colab": {
          "base_uri": "https://localhost:8080/"
        },
        "id": "JRNPW1i_1NAj",
        "outputId": "1613c59f-e531-43d1-fb9d-805eaad7b86e"
      },
      "source": [
        "#load the dataset\n",
        "dataframe = read_csv(\"new planes.csv\", engine='python')\n",
        "dataset = dataframe.values\n",
        "dataset = dataset.astype('int32')\n",
        "print(dataset)"
      ],
      "execution_count": 6,
      "outputs": [
        {
          "output_type": "stream",
          "text": [
            "[[     0 -13594  -9455     27     82      0]\n",
            " [     0 -13925  -9255     71     82      4]\n",
            " [     0 -14265  -9055    117     84      8]\n",
            " ...\n",
            " [  2128 -12208  -8147     43     72    943]\n",
            " [  2128 -12374  -8447     27     72    948]\n",
            " [  2128 -12541  -8743     14     72    952]]\n"
          ],
          "name": "stdout"
        }
      ]
    },
    {
      "cell_type": "code",
      "metadata": {
        "colab": {
          "base_uri": "https://localhost:8080/",
          "height": 265
        },
        "id": "RWct97Dc1O5W",
        "outputId": "ac3eb89e-9e36-4257-a5d1-6dd50c5652ee"
      },
      "source": [
        "plt.plot(dataset)\n",
        "plt.show()"
      ],
      "execution_count": 7,
      "outputs": [
        {
          "output_type": "display_data",
          "data": {
            "image/png": "[encoded data removed]",
            "text/plain": [
              "<Figure size 432x288 with 1 Axes>"
            ]
          },
          "metadata": {
            "tags": [],
            "needs_background": "light"
          }
        }
      ]
    },
    {
      "cell_type": "code",
      "metadata": {
        "colab": {
          "base_uri": "https://localhost:8080/"
        },
        "id": "gOy3an551TZo",
        "outputId": "bc873502-2614-486a-a452-101e5f6eaa1a"
      },
      "source": [
        "#split into train and test sets\n",
        "train_size = int(len(dataset) * 0.67)\n",
        "test_size = len(dataset) - train_size\n",
        "train, test = dataset[0:train_size,:], dataset[train_size:len(dataset),:]\n",
        "\n",
        "#reshape into X=t and Y=t+1\n",
        "look_back = 5\n",
        "trainX, trainY = create_dataset(train, look_back)\n",
        "testX, testY = create_dataset(test, look_back)\n",
        "\n",
        "#print(rows_removed)\n",
        "# print sample data\n",
        "for i in range(0, 5):\n",
        "  print(trainX[i], trainY[i])\n",
        "\n",
        "#reshape input to be[ samples, time steps, features]\n",
        "print(trainX.shape)\n",
        "trainX = np.reshape(trainX, (trainX.shape[0], trainX.shape[1], 5))\n",
        "testX = np.reshape(testX, (testX.shape[0], testX.shape[1], 5))"
      ],
      "execution_count": 8,
      "outputs": [
        {
          "output_type": "stream",
          "text": [
            "[[-13594  -9455     27     82      0]\n",
            " [-13925  -9255     71     82      4]\n",
            " [-14265  -9055    117     84      8]\n",
            " [-14615  -8853    163     86     13]\n",
            " [-14974  -8651    207     88     17]] [-15340  -8445    253     90     22]\n",
            "[[-13925  -9255     71     82      4]\n",
            " [-14265  -9055    117     84      8]\n",
            " [-14615  -8853    163     86     13]\n",
            " [-14974  -8651    207     88     17]\n",
            " [-15340  -8445    253     90     22]] [-15716  -8231    305     91     26]\n",
            "[[-14265  -9055    117     84      8]\n",
            " [-14615  -8853    163     86     13]\n",
            " [-14974  -8651    207     88     17]\n",
            " [-15340  -8445    253     90     22]\n",
            " [-15716  -8231    305     91     26]] [-16102  -8014    356     93     31]\n",
            "[[-14615  -8853    163     86     13]\n",
            " [-14974  -8651    207     88     17]\n",
            " [-15340  -8445    253     90     22]\n",
            " [-15716  -8231    305     91     26]\n",
            " [-16102  -8014    356     93     31]] [-16494  -7800    403     95     35]\n",
            "[[-14974  -8651    207     88     17]\n",
            " [-15340  -8445    253     90     22]\n",
            " [-15716  -8231    305     91     26]\n",
            " [-16102  -8014    356     93     31]\n",
            " [-16494  -7800    403     95     35]] [-16895  -7585    443     97     40]\n",
            "(144347, 5, 5)\n"
          ],
          "name": "stdout"
        }
      ]
    },
    {
      "cell_type": "code",
      "metadata": {
        "colab": {
          "base_uri": "https://localhost:8080/"
        },
        "id": "GYlYrTre1VZq",
        "outputId": "6a523e71-e716-42db-fe74-15be354a71c7"
      },
      "source": [
        "#create and fit the LSTM Network\n",
        "n_steps = 5\n",
        "n_features = 5    # no of features are now = 5 in multiple parallel series\n",
        "batch_size = 1\n",
        "# define model\n",
        "model = Sequential()\n",
        "model.add(Bidirectional(LSTM(50, activation='relu'), input_shape=(n_steps, n_features)))\n",
        "model.add(Dense(n_features))\n",
        "opt = keras.optimizers.Adam(learning_rate=0.001)\n",
        "model.compile(optimizer=opt, loss='mse')\n",
        "model.fit(trainX, trainY, epochs=30, verbose=2, validation_data = (testX, testY), callbacks = callbacks.EarlyStopping(monitor='val_loss', patience = 3, restore_best_weights=True))"
      ],
      "execution_count": 9,
      "outputs": [
        {
          "output_type": "stream",
          "text": [
            "Epoch 1/30\n",
            "4511/4511 - 46s - loss: 3941156.7500 - val_loss: 759392.5000\n",
            "Epoch 2/30\n",
            "4511/4511 - 21s - loss: 545666.4375 - val_loss: 387128.6875\n",
            "Epoch 3/30\n",
            "4511/4511 - 21s - loss: 342191.8125 - val_loss: 306810.6875\n",
            "Epoch 4/30\n",
            "4511/4511 - 21s - loss: 304473.5938 - val_loss: 300263.9062\n",
            "Epoch 5/30\n",
            "4511/4511 - 21s - loss: 197207.2812 - val_loss: 141839.5625\n",
            "Epoch 6/30\n",
            "4511/4511 - 21s - loss: 173134.5469 - val_loss: 111753.6719\n",
            "Epoch 7/30\n",
            "4511/4511 - 21s - loss: 94771.3359 - val_loss: 75610.0547\n",
            "Epoch 8/30\n",
            "4511/4511 - 21s - loss: 75233.9141 - val_loss: 63889.6914\n",
            "Epoch 9/30\n",
            "4511/4511 - 21s - loss: 75215.1562 - val_loss: 38418.0312\n",
            "Epoch 10/30\n",
            "4511/4511 - 22s - loss: 58745.3008 - val_loss: 59125.9805\n",
            "Epoch 11/30\n",
            "4511/4511 - 21s - loss: 39353.6953 - val_loss: 55015.1172\n",
            "Epoch 12/30\n",
            "4511/4511 - 22s - loss: 45107.3867 - val_loss: 33416.3633\n",
            "Epoch 13/30\n",
            "4511/4511 - 21s - loss: 27116.8066 - val_loss: 21639.8047\n",
            "Epoch 14/30\n",
            "4511/4511 - 21s - loss: 20028.2930 - val_loss: 13163.1875\n",
            "Epoch 15/30\n",
            "4511/4511 - 21s - loss: 27055.6289 - val_loss: 12240.8252\n",
            "Epoch 16/30\n",
            "4511/4511 - 21s - loss: 19078.4590 - val_loss: 8709.6387\n",
            "Epoch 17/30\n",
            "4511/4511 - 21s - loss: 14413.4268 - val_loss: 17994.2695\n",
            "Epoch 18/30\n",
            "4511/4511 - 21s - loss: 11383.2031 - val_loss: 10991.6191\n",
            "Epoch 19/30\n",
            "4511/4511 - 22s - loss: 16569.5059 - val_loss: 7597.2935\n",
            "Epoch 20/30\n",
            "4511/4511 - 21s - loss: 39540.0547 - val_loss: 18688.5703\n",
            "Epoch 21/30\n",
            "4511/4511 - 21s - loss: 14675.1562 - val_loss: 8358.4297\n",
            "Epoch 22/30\n",
            "4511/4511 - 22s - loss: 12427.5732 - val_loss: 11210.0293\n"
          ],
          "name": "stdout"
        },
        {
          "output_type": "execute_result",
          "data": {
            "text/plain": [
              "<keras.callbacks.History at 0x7f76b0354210>"
            ]
          },
          "metadata": {
            "tags": []
          },
          "execution_count": 9
        }
      ]
    },
    {
      "cell_type": "code",
      "metadata": {
        "id": "O3aJwQFx1YAj"
      },
      "source": [
        "#make predictions\n",
        "trainPredict = model.predict(trainX, batch_size=batch_size)\n",
        "#model.reset_states()\n",
        "testPredict = model.predict(testX, batch_size=batch_size)"
      ],
      "execution_count": 10,
      "outputs": []
    },
    {
      "cell_type": "code",
      "metadata": {
        "colab": {
          "base_uri": "https://localhost:8080/",
          "height": 662
        },
        "id": "aRiQ7zNd1aWc",
        "outputId": "a625577c-c799-42af-8678-3ba5b63c036c"
      },
      "source": [
        "print(trainY.shape, trainPredict.shape)\n",
        "print(trainPredict)\n",
        "print(trainY)\n",
        "#calculate root mean squared error\n",
        "trainScore = math.sqrt(mean_squared_error(trainY[:], trainPredict[:]))\n",
        "print(\"Train Score: %.2f RMSE\" % (trainScore))\n",
        "testScore = math.sqrt(mean_squared_error(testY[:], testPredict[:]))\n",
        "print(\"Test Score: %.2f RMSE\" % (testScore))\n",
        "\n",
        "\n",
        "#shift train predictions for plotting \n",
        "trainPredictPlot = np.empty_like(dataset)\n",
        "trainPredictPlot[:, :] = np.nan\n",
        "trainPredictPlot[look_back:len(trainPredict)+look_back, :5] = trainPredict\n",
        "\n",
        "#shift test predictions for plottting\n",
        "testPredictPlot = np.empty_like(dataset)\n",
        "testPredictPlot[:, :] = np.nan\n",
        "testPredictPlot[len(trainPredict)+(look_back*2)+1: len(dataset)-1 - rows_removed, :5] = testPredict\n",
        "\n",
        "#plot baseline and predictions\n",
        "plt.plot(dataset)\n",
        "plt.plot(trainPredictPlot)\n",
        "plt.plot(testPredictPlot)\n",
        "plt.show()"
      ],
      "execution_count": 12,
      "outputs": [
        {
          "output_type": "stream",
          "text": [
            "(144347, 5) (144347, 5)\n",
            "[[-1.5254806e+04 -8.3900752e+03  4.0064011e+02  5.4293125e+01\n",
            "  -1.9980213e+01]\n",
            " [-1.5628794e+04 -8.1846138e+03  4.3719833e+02  5.4697762e+01\n",
            "  -1.6783855e+01]\n",
            " [-1.6012210e+04 -7.9820845e+03  4.7476083e+02  5.4923462e+01\n",
            "  -1.1817479e+01]\n",
            " ...\n",
            " [-2.9742346e+04 -6.8431617e+04  3.6913730e+03  1.8643887e+02\n",
            "   2.3678201e+02]\n",
            " [-2.9942564e+04 -6.8984078e+04  3.6858098e+03  1.8857480e+02\n",
            "   2.4324339e+02]\n",
            " [-3.0070197e+04 -6.9556414e+04  3.6794553e+03  1.9084021e+02\n",
            "   2.4948683e+02]]\n",
            "[[-15340  -8445    253     90     22]\n",
            " [-15716  -8231    305     91     26]\n",
            " [-16102  -8014    356     93     31]\n",
            " ...\n",
            " [-29708 -68376   3653    121    176]\n",
            " [-29892 -68917   3651    121    181]\n",
            " [-30010 -69477   3649    121    185]]\n",
            "Train Score: 88.09 RMSE\n",
            "Test Score: 87.16 RMSE\n"
          ],
          "name": "stdout"
        },
        {
          "output_type": "display_data",
          "data": {
            "image/png": "[encoded data removed]",
            "text/plain": [
              "<Figure size 432x288 with 1 Axes>"
            ]
          },
          "metadata": {
            "tags": [],
            "needs_background": "light"
          }
        }
      ]
    },
    {
      "cell_type": "code",
      "metadata": {
        "id": "gj5nwHno1acM",
        "colab": {
          "base_uri": "https://localhost:8080/"
        },
        "outputId": "a3d50357-78ac-483c-aaf9-e17f527666d7"
      },
      "source": [
        "# demonstrate prediction\n",
        "x_input = np.array([[5000, 5000, 50, 105, 0], [6000, 6000, 75, 107, 5], [7800, 7000, 125, 109, 11], [9200, 8000, 160, 111, 22], [10000, 9000, 190, 113, 29]])\n",
        "x_input = x_input.reshape((1, n_steps, n_features))\n",
        "yhat = model.predict(x_input, verbose=0)\n",
        "print(yhat)"
      ],
      "execution_count": 19,
      "outputs": [
        {
          "output_type": "stream",
          "text": [
            "[[10392.1875   9720.224     186.18456    84.33436   146.13449]]\n"
          ],
          "name": "stdout"
        }
      ]
    }
  ]
}